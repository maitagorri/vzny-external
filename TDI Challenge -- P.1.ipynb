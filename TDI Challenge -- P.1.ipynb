{
 "cells": [
  {
   "cell_type": "code",
   "execution_count": 4,
   "metadata": {},
   "outputs": [],
   "source": [
    "from random import sample\n",
    "from numpy import mean,average, std\n",
    "\n",
    "path_dist = lambda point, limit: abs(point[0]/limit[0]-point[1]/limit[1])\n",
    "\n",
    "class ant:\n",
    "    def __init__(self, x, y, grid):\n",
    "        self.position = [x,y]\n",
    "        self.grid = grid\n",
    "        self.max_dist = path_dist(self.position,grid.get_extent())\n",
    "        if tuple(self.position)==grid.get_extent:\n",
    "            self.finished=True\n",
    "        else:\n",
    "            self.finished=False\n",
    "    def get_position(self):\n",
    "        return self.position\n",
    "    def get_x(self):\n",
    "        return self.position[0]\n",
    "    def get_y(self):\n",
    "        return self.position[1]\n",
    "    def get_d(self):\n",
    "        return self.max_dist\n",
    "    def x_step(self):\n",
    "        self.position[0]+=1\n",
    "    def y_step(self):\n",
    "        self.position[1]+=1\n",
    "    def move(self):\n",
    "        if self.get_x()<self.grid.get_xlim():\n",
    "            if self.get_y()<self.grid.get_ylim():\n",
    "                # \"normal random move\"\n",
    "                direction = sample([0,1],1)[0]\n",
    "                self.position[direction]+=1\n",
    "            else:\n",
    "                # hit y_lim, move x\n",
    "                self.x_step()\n",
    "        elif self.get_y()<self.grid.get_ylim():\n",
    "            # hit x_lim but not y_lim, move y\n",
    "            self.y_step()\n",
    "        # check again if in corner\n",
    "        if self.get_x()==self.grid.get_xlim() and self.get_y()==self.grid.get_ylim():\n",
    "            #print(\"Reached northeast corner\")\n",
    "            self.finished=True\n",
    "        # update distance\n",
    "        self.max_dist = max(self.max_dist, path_dist(self.position,self.grid.get_extent()))\n",
    "        return self.position\n",
    "    \n",
    "class grid:\n",
    "    def __init__(self,m,n):\n",
    "        self.extent = (m,n)\n",
    "    def get_xlim(self):\n",
    "        return self.extent[0]\n",
    "    def get_ylim(self):\n",
    "        return self.extent[1]\n",
    "    def get_extent(self):\n",
    "        return self.extent\n",
    "\n",
    "def ant_run(m,n):\n",
    "    chessboard = grid(m,n)\n",
    "    thisAnt=ant(0,0,chessboard)\n",
    "    \n",
    "    # move it until it gets there\n",
    "    while not thisAnt.finished:\n",
    "        thisAnt.move()\n",
    "    \n",
    "    # return the maximum distance of the move\n",
    "    return thisAnt.get_d()\n",
    "\n",
    "def simulate(m,n):\n",
    "    # run until delta is sufficiently small to get all the sig figs\n",
    "    d_0 = ant_run(m,n)\n",
    "    ds = [d_0]\n",
    "    d_mean = d_0\n",
    "    # get to the point where the mean doesn't change much between runs.\n",
    "    for N in range(1,10000000):\n",
    "        # get another run\n",
    "        d_i = ant_run(m,n)\n",
    "        # add this run to the register\n",
    "        ds += [d_i]\n",
    "        # get the new mean\n",
    "        d_mean_i = average([d_mean,d_i],weights=[N,1])\n",
    "        # get the delta and update N\n",
    "        delta = d_mean_i-d_mean\n",
    "        # update the running mean\n",
    "        d_mean = d_mean_i\n",
    "        if N%1000000 == 0:\n",
    "            print(N, delta, d_mean, std(ds))\n",
    "    # once delta gets small enough, return N, mean and standard deviation\n",
    "    return N, delta, d_mean, ds, std(ds)\n",
    "        \n"
   ]
  },
  {
   "cell_type": "code",
   "execution_count": 5,
   "metadata": {
    "scrolled": true
   },
   "outputs": [
    {
     "name": "stdout",
     "output_type": "stream",
     "text": [
      "1000000 8.563735898192704e-08 0.35335282336505 0.13697040925094978\n",
      "2000000 -5.3257162013764514e-08 0.35335864379816917 0.1369432965976226\n",
      "3000000 1.2645176239445277e-08 0.35336881909764056 0.13700285465044165\n",
      "4000000 9.844176640516622e-09 0.353330165876001 0.13702112283782025\n",
      "5000000 -3.7849427092506716e-08 0.3533425071726335 0.13698657595749222\n",
      "6000000 3.788241537128201e-08 0.3533506690196598 0.13697227793398203\n",
      "7000000 -2.282753852611563e-08 0.353341156698649 0.1369810816870318\n",
      "8000000 -5.16265752370515e-10 0.353358737742007 0.13697462538219493\n",
      "9000000 1.4501779999065434e-08 0.3533549474977361 0.13697259894775335\n"
     ]
    }
   ],
   "source": [
    "m23n31 = simulate(23,31)"
   ]
  },
  {
   "cell_type": "code",
   "execution_count": 6,
   "metadata": {},
   "outputs": [
    {
     "name": "stdout",
     "output_type": "stream",
     "text": [
      "1000000 -1.5525018237649846e-07 0.5188865460491395 0.18186423448357417\n",
      "2000000 -8.3998795585849e-08 0.5186469419759859 0.18168109993362808\n",
      "3000000 -4.306088741135028e-08 0.5187930521776523 0.18180849891980824\n",
      "4000000 -1.606216237792779e-08 0.5187941040679562 0.1818265473265081\n",
      "5000000 5.988059170736193e-08 0.5187788598836732 0.18179179029646012\n",
      "6000000 4.123734020922143e-08 0.5188097252250995 0.18180689822507898\n",
      "7000000 2.9774991472386603e-08 0.5188477867388449 0.18182074217888017\n",
      "8000000 -2.7522058854145826e-08 0.5188777695633984 0.18180132990283554\n",
      "9000000 -8.588277422560964e-09 0.5188529380241724 0.1818169237906158\n"
     ]
    }
   ],
   "source": [
    "m7n11 = simulate(7,11)"
   ]
  },
  {
   "cell_type": "code",
   "execution_count": 10,
   "metadata": {},
   "outputs": [
    {
     "name": "stdout",
     "output_type": "stream",
     "text": [
      "0.06318815017291772\n"
     ]
    }
   ],
   "source": [
    "prior=[d for d in m23n31[3] if d>0.2]\n",
    "actual=[d for d in prior if d>0.6]\n",
    "print(len(actual)/len(prior))"
   ]
  },
  {
   "cell_type": "code",
   "execution_count": 11,
   "metadata": {},
   "outputs": [
    {
     "name": "stdout",
     "output_type": "stream",
     "text": [
      "0.3282538209840449\n"
     ]
    }
   ],
   "source": [
    "prior=[d for d in m7n11[3] if d>0.2]\n",
    "actual=[d for d in prior if d>0.6]\n",
    "print(len(actual)/len(prior))"
   ]
  },
  {
   "cell_type": "markdown",
   "metadata": {},
   "source": [
    "23,31: 63000000 2.0727117244767612e-09 0.35329013285949273 0.13694944570100703"
   ]
  },
  {
   "cell_type": "markdown",
   "metadata": {},
   "source": [
    "7,11: 293000000 2.2362933727038126e-10 0.5188921989732688 0.18177564236980565"
   ]
  },
  {
   "cell_type": "code",
   "execution_count": null,
   "metadata": {},
   "outputs": [],
   "source": []
  }
 ],
 "metadata": {
  "kernelspec": {
   "display_name": "Python 3",
   "language": "python",
   "name": "python3"
  },
  "language_info": {
   "codemirror_mode": {
    "name": "ipython",
    "version": 3
   },
   "file_extension": ".py",
   "mimetype": "text/x-python",
   "name": "python",
   "nbconvert_exporter": "python",
   "pygments_lexer": "ipython3",
   "version": "3.6.4"
  }
 },
 "nbformat": 4,
 "nbformat_minor": 2
}
