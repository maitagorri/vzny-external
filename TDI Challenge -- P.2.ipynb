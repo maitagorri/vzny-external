{
 "cells": [
  {
   "cell_type": "code",
   "execution_count": 10,
   "metadata": {},
   "outputs": [],
   "source": [
    "import pandas as pd\n",
    "import math\n",
    "from collections import Counter\n",
    "from scipy import stats as scs\n",
    "from datetime import datetime\n",
    "from scipy.stats import linregress"
   ]
  },
  {
   "cell_type": "code",
   "execution_count": 2,
   "metadata": {},
   "outputs": [
    {
     "name": "stderr",
     "output_type": "stream",
     "text": [
      "C:\\Users\\Maita Schade\\AppData\\Local\\Continuum\\anaconda3\\lib\\site-packages\\IPython\\core\\interactiveshell.py:2728: DtypeWarning: Columns (25,27) have mixed types. Specify dtype option on import or set low_memory=False.\n",
      "  interactivity=interactivity, compiler=compiler, result=result)\n",
      "C:\\Users\\Maita Schade\\AppData\\Local\\Continuum\\anaconda3\\lib\\site-packages\\IPython\\core\\interactiveshell.py:2728: DtypeWarning: Columns (19) have mixed types. Specify dtype option on import or set low_memory=False.\n",
      "  interactivity=interactivity, compiler=compiler, result=result)\n"
     ]
    }
   ],
   "source": [
    "# first, read in the datafiles\n",
    "mt = pd.read_csv(\"./Data/MT-clean/MT_cleaned.csv\")\n",
    "vt = pd.read_csv(\"./Data/VT-clean/VT_cleaned.csv\")"
   ]
  },
  {
   "cell_type": "code",
   "execution_count": 3,
   "metadata": {},
   "outputs": [
    {
     "name": "stdout",
     "output_type": "stream",
     "text": [
      "% male:  0.6342658453500891\n"
     ]
    }
   ],
   "source": [
    "# Proportion of males among stopped -- divide number of VT males by total\n",
    "male_prop = vt[vt.driver_gender=='M'].shape[0]/vt.shape[0]\n",
    "print(\"% male: \", male_prop)"
   ]
  },
  {
   "cell_type": "code",
   "execution_count": 4,
   "metadata": {},
   "outputs": [
    {
     "name": "stdout",
     "output_type": "stream",
     "text": [
      "out_of_state   False   True \n",
      "is_arrested                 \n",
      "False         604588  198773\n",
      "True           12190    4868\n",
      "ratio of probabilities:  1.2095129351452942\n",
      "chi2 =  128.72916324226682 \n",
      " p =  7.773353035854224e-30\n"
     ]
    }
   ],
   "source": [
    "# Probability of arrest -- divide number of out-of-state arrests by total number of out-of-state, & same for in\n",
    "# then do chi2-test\n",
    "\n",
    "# crosstab\n",
    "result = pd.crosstab(mt.is_arrested, mt.out_of_state)\n",
    "print(result)\n",
    "\n",
    "# calculate each probability\n",
    "out_prob = result[True][True]/result[True].sum()\n",
    "in_prob = result[False][True]/result[False].sum()\n",
    "print('ratio of probabilities: ', out_prob/in_prob)\n",
    "\n",
    "(chi2, p, dof, expected) = scs.chi2_contingency(result)\n",
    "print(\"chi2 = \", chi2, \"\\n\",\n",
    "      \"p = \", p)\n"
   ]
  },
  {
   "cell_type": "code",
   "execution_count": 5,
   "metadata": {},
   "outputs": [
    {
     "data": {
      "text/plain": [
       "0.6580998111785223"
      ]
     },
     "execution_count": 5,
     "metadata": {},
     "output_type": "execute_result"
    }
   ],
   "source": [
    "# speeding violations -- pick up all the MT violations that contain speeding\n",
    "mt[mt.violation.map(lambda s: 'Speeding' in str(s))].shape[0]/mt.shape[0]"
   ]
  },
  {
   "cell_type": "code",
   "execution_count": 6,
   "metadata": {},
   "outputs": [
    {
     "name": "stdout",
     "output_type": "stream",
     "text": [
      "4.085999694420856\n"
     ]
    }
   ],
   "source": [
    "# DUI -- DUI violation as proportion of total violations in each state, then get ration between MT & VT\n",
    "\n",
    "dui_mt = mt.violation[mt.violation.map(lambda s: 'DUI' in str(s))].shape[0]/mt.shape[0]\n",
    "dui_vt = vt.violation[vt.violation.map(lambda s: 'DUI' in str(s))].shape[0]/vt.shape[0]\n",
    "\n",
    "print(dui_mt/dui_vt)"
   ]
  },
  {
   "cell_type": "code",
   "execution_count": 11,
   "metadata": {},
   "outputs": [
    {
     "name": "stderr",
     "output_type": "stream",
     "text": [
      "C:\\Users\\Maita Schade\\AppData\\Local\\Continuum\\anaconda3\\lib\\site-packages\\pandas\\core\\generic.py:3643: SettingWithCopyWarning: \n",
      "A value is trying to be set on a copy of a slice from a DataFrame.\n",
      "Try using .loc[row_indexer,col_indexer] = value instead\n",
      "\n",
      "See the caveats in the documentation: http://pandas.pydata.org/pandas-docs/stable/indexing.html#indexing-view-versus-copy\n",
      "  self[name] = value\n"
     ]
    },
    {
     "name": "stdout",
     "output_type": "stream",
     "text": [
      "(825118, 2)\n",
      "(817720, 2)\n"
     ]
    }
   ],
   "source": [
    "# Model year\n",
    "\n",
    "# function for some type handling...\n",
    "def floatcast(obj):\n",
    "    try:\n",
    "        return float(obj)\n",
    "    except:\n",
    "        return None\n",
    "    \n",
    "# variables of interest\n",
    "model_year = mt[[\"stop_date\",\"vehicle_year\"]]\n",
    "\n",
    "# first get the stop year. \n",
    "model_year.stop_date = mt.stop_date.map(lambda s: datetime.strptime(s, \"%Y-%m-%d\").year if type(s)==str else None)\n",
    "\n",
    "# then turn vehicle model year into floats for regression\n",
    "model_year.vehicle_year = model_year.vehicle_year.apply(floatcast)\n",
    "print (model_year.shape)\n",
    "# and pick only the rows that have values for both stop and model year\n",
    "model_year = model_year[~model_year.stop_date.isna() & ~model_year.vehicle_year.isna()]\n",
    "print (model_year.shape)\n",
    "# we lose about 7500 stop data points"
   ]
  },
  {
   "cell_type": "code",
   "execution_count": 12,
   "metadata": {},
   "outputs": [
    {
     "name": "stdout",
     "output_type": "stream",
     "text": [
      "LinregressResult(slope=0.72313020112513, intercept=548.1578839829197, rvalue=0.20526250525672282, pvalue=0.0, stderr=0.003812920677505308)\n"
     ]
    },
    {
     "data": {
      "text/plain": [
       "2008.8808902556823"
      ]
     },
     "execution_count": 12,
     "metadata": {},
     "output_type": "execute_result"
    }
   ],
   "source": [
    "# now use scipy for a quick regression on the two variables.\n",
    "regression = linregress(model_year.stop_date, model_year.vehicle_year)\n",
    "print(regression)\n",
    "MY_predictor= lambda year: regression.intercept + regression.slope * year\n",
    "MY_predictor(2020)"
   ]
  },
  {
   "cell_type": "code",
   "execution_count": 13,
   "metadata": {},
   "outputs": [],
   "source": [
    "# Do the whole thing again for the *average* model year given the stop year. shouldn't be much different.\n",
    "year_ave = pd.DataFrame(columns=[\"stop_date\",\"ave_model_year\"])\n",
    "for year in Counter(model_year.stop_date):\n",
    "    year_ave = year_ave.append(pd.DataFrame([[year, model_year['vehicle_year'][model_year.stop_date==year].mean()]],\n",
    "                                  columns=[\"stop_date\",\"ave_model_year\"]), \n",
    "                    ignore_index=True)"
   ]
  },
  {
   "cell_type": "code",
   "execution_count": 14,
   "metadata": {},
   "outputs": [
    {
     "data": {
      "text/plain": [
       "5.609148253703464e-08"
      ]
     },
     "execution_count": 14,
     "metadata": {},
     "output_type": "execute_result"
    }
   ],
   "source": [
    "# Another regression...\n",
    "regression = linregress(year_ave)\n",
    "regression.pvalue"
   ]
  },
  {
   "cell_type": "code",
   "execution_count": 15,
   "metadata": {},
   "outputs": [
    {
     "data": {
      "text/plain": [
       "2008.8431659593393"
      ]
     },
     "execution_count": 15,
     "metadata": {},
     "output_type": "execute_result"
    }
   ],
   "source": [
    "# and prediction.\n",
    "MY_predictor= lambda year: regression.intercept + regression.slope * year\n",
    "MY_predictor(2020)"
   ]
  },
  {
   "cell_type": "code",
   "execution_count": 16,
   "metadata": {},
   "outputs": [],
   "source": [
    "# Timing of stops \n",
    "# First, combine all the stops together and make sure they actually have a timestamp.\n",
    "allstops = vt.append(mt)\n",
    "allstops = allstops[~allstops.stop_time.isna()]\n",
    "\n",
    "# Then, get the stop hour for each stop and store it in an extra column\n",
    "allstops[\"stop_hr\"] = allstops.stop_time.apply(lambda s: datetime.strptime(s,\"%H:%M\").hour)"
   ]
  },
  {
   "cell_type": "code",
   "execution_count": 17,
   "metadata": {},
   "outputs": [
    {
     "name": "stdout",
     "output_type": "stream",
     "text": [
      "    count\n",
      "15  95891\n",
      "   count\n",
      "4    547\n"
     ]
    },
    {
     "data": {
      "text/plain": [
       "count    95344\n",
       "dtype: int64"
      ]
     },
     "execution_count": 17,
     "metadata": {},
     "output_type": "execute_result"
    }
   ],
   "source": [
    "# find which hour has the most and the least traffic stops...\n",
    "hour_dist = pd.DataFrame(Counter(allstops.stop_hr), index=[\"count\"]).transpose()\n",
    "print(hour_dist.iloc[hour_dist.idxmax()])\n",
    "print(hour_dist.iloc[hour_dist.idxmin()])\n",
    "# ... and calculate the difference.\n",
    "hour_dist.max()-hour_dist.min()"
   ]
  },
  {
   "cell_type": "code",
   "execution_count": 18,
   "metadata": {},
   "outputs": [
    {
     "name": "stdout",
     "output_type": "stream",
     "text": [
      "Cascade County 726.0110879079077\n",
      "Missoula County 451.4396366704828\n",
      "Ravalli County 173.66036067958035\n",
      "Yellowstone County 474.70417171811243\n",
      "Gallatin County 732.7333226769787\n",
      "Silver Bow County 180.47771563659794\n",
      "Flathead County 330.3514276213981\n",
      "Mineral County 588.107227175585\n",
      "Jefferson County 1354.2293752870366\n",
      "Rosebud County 982.065357660048\n",
      "Lake County 490.8532591713153\n",
      "Stillwater County 261.5274825871419\n",
      "Fergus County 1497.9527666724655\n",
      "Judith Basin County 1075.1372345638838\n",
      "Deer Lodge County 110.85716386283202\n",
      "Custer County 531.8257898168524\n",
      "Powell County 707.8801919281345\n",
      "Roosevelt County 849.6143016904398\n",
      "Daniels County 232.4769157202195\n",
      "Park County 504.0019282986921\n",
      "Sanders County 1520.1495897117481\n",
      "Hill County 385.28920418604883\n",
      "Beaverhead County 1364.2454308560193\n",
      "Lincoln County 2189.168687891612\n",
      "Lewis And Clark County 714.7902967117282\n",
      "Glacier County 882.7506654664514\n",
      "Carbon County 675.3098772177211\n",
      "Madison County 1794.7702076586331\n",
      "Big Horn County 571.6423061723016\n",
      "Broadwater County 543.0207175194059\n",
      "Dawson County 405.33206918935406\n",
      "Musselshell County 297.43187890618367\n",
      "Richland County 583.4635069990038\n",
      "Sweet Grass County 253.22423446799448\n",
      "Prairie County 248.37977104621896\n",
      "Golden Valley County 196.00968746565138\n",
      "Powder River County 741.0995007058254\n",
      "Granite County 279.18806656775564\n",
      "Toole County 627.3719369753727\n",
      "Blaine County 255.3688939428724\n",
      "Valley County 1174.4094775219357\n",
      "Phillips County 1510.3757558263092\n",
      "Sheridan County 433.6943295267159\n",
      "Petroleum County 423.747973923499\n",
      "Garfield County 765.3574566396858\n",
      "Pondera County 461.58059274956105\n",
      "Mccone County 1123.1585115991406\n",
      "Treasure County 169.02930584188172\n",
      "Chouteau County 1571.3507764398785\n",
      "Liberty County 237.86376043378\n",
      "Teton County 775.5243604550499\n",
      "Wheatland County 343.8104908442347\n",
      "Wibaux County 134.5112610263174\n",
      "Fallon County 365.9986297278261\n",
      "Meagher County 453.4333368324209\n",
      "Carter County 668.9425820011006\n",
      "largest county size:  2189.168687891612  km^2\n"
     ]
    }
   ],
   "source": [
    "# County size\n",
    "# pick out all the separate counties\n",
    "names = mt.county_name[~mt.county_name.isna()].unique()\n",
    "\n",
    "# for each county, go about finding its \"size\"\n",
    "maxsize=0\n",
    "for this_county in names:\n",
    "    # get the coordinates\n",
    "    county_coord = mt[(mt.county_name==this_county) & \n",
    "                      (~mt.lat.isna()) & \n",
    "                      (~mt.lon.isna())][[\"lat\",\"lon\"]]\n",
    "\n",
    "    # truncate the locations observed by 10 standard deviations out from center, based on some plots and \n",
    "    # checks how these are distributed\n",
    "    reasonable_loc = county_coord[(county_coord.lat.apply(lambda l: abs(l-county_coord.lat.mean()))<10*county_coord.lat.std()) &\n",
    "                                  (county_coord.lon.apply(lambda l: abs(l-county_coord.lon.mean()))<10*county_coord.lon.std())] \n",
    "\n",
    "    \n",
    "    # get the spread in lat and lon after truncation\n",
    "    d_lat = reasonable_loc.lat.std()\n",
    "    d_lon = reasonable_loc.lon.std()\n",
    "    lat = reasonable_loc.lat.mean()\n",
    "    \n",
    "    # use a quick and dirty estimate of km based on Wikipedia numbers and geometry\n",
    "    est_height = 111.132*d_lat\n",
    "    est_width = 111.320*math.cos(math.radians(lat))*d_lon\n",
    "    # and calculate the elipsis' area\n",
    "    A = math.pi*est_height*est_width\n",
    "    \n",
    "    # keep track, and reset max if this county is bigger\n",
    "    print(this_county, A)\n",
    "    maxsize=max(A,maxsize)\n",
    "    \n",
    "print('largest county size: ', maxsize, ' km^2')"
   ]
  },
  {
   "cell_type": "code",
   "execution_count": 181,
   "metadata": {},
   "outputs": [
    {
     "data": {
      "text/plain": [
       "<matplotlib.axes._subplots.AxesSubplot at 0x2aea484de80>"
      ]
     },
     "execution_count": 181,
     "metadata": {},
     "output_type": "execute_result"
    },
    {
     "data": {
      "image/png": "[encoded data removed]",
      "text/plain": [
       "<matplotlib.figure.Figure at 0x2aea484d240>"
      ]
     },
     "metadata": {},
     "output_type": "display_data"
    }
   ],
   "source": [
    "reasonable_loc.plot.scatter(x='lon',y='lat')"
   ]
  },
  {
   "cell_type": "code",
   "execution_count": 174,
   "metadata": {},
   "outputs": [
    {
     "data": {
      "text/plain": [
       "<matplotlib.axes._subplots.AxesSubplot at 0x2aea47789e8>"
      ]
     },
     "execution_count": 174,
     "metadata": {},
     "output_type": "execute_result"
    },
    {
     "data": {
      "image/png": "[encoded data removed]",
      "text/plain": [
       "<matplotlib.figure.Figure at 0x2aea4764fd0>"
      ]
     },
     "metadata": {},
     "output_type": "display_data"
    }
   ],
   "source": [
    "county_coord.plot.scatter(x='lat',y='lon')"
   ]
  },
  {
   "cell_type": "code",
   "execution_count": null,
   "metadata": {},
   "outputs": [],
   "source": []
  }
 ],
 "metadata": {
  "kernelspec": {
   "display_name": "Python 3",
   "language": "python",
   "name": "python3"
  },
  "language_info": {
   "codemirror_mode": {
    "name": "ipython",
    "version": 3
   },
   "file_extension": ".py",
   "mimetype": "text/x-python",
   "name": "python",
   "nbconvert_exporter": "python",
   "pygments_lexer": "ipython3",
   "version": "3.6.4"
  }
 },
 "nbformat": 4,
 "nbformat_minor": 2
}
